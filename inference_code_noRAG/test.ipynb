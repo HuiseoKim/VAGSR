{
 "cells": [
  {
   "cell_type": "code",
   "execution_count": 4,
   "metadata": {},
   "outputs": [],
   "source": [
    "from transformers import AutoModelForCausalLM, AutoTokenizer\n",
    "\n"
   ]
  },
  {
   "cell_type": "code",
   "execution_count": 2,
   "metadata": {},
   "outputs": [
    {
     "name": "stderr",
     "output_type": "stream",
     "text": [
      "Loading checkpoint shards: 100%|██████████| 2/2 [02:51<00:00, 85.61s/it]\n"
     ]
    }
   ],
   "source": [
    "model = AutoModelForCausalLM.from_pretrained(\"deepseek-ai/DeepSeek-R1-Distill-Llama-8B\")"
   ]
  },
  {
   "cell_type": "code",
   "execution_count": 5,
   "metadata": {},
   "outputs": [],
   "source": [
    "tokenizer = AutoTokenizer.from_pretrained(\"deepseek-ai/DeepSeek-R1-Distill-Llama-8B\")\n",
    "\n"
   ]
  },
  {
   "cell_type": "code",
   "execution_count": 6,
   "metadata": {},
   "outputs": [
    {
     "data": {
      "text/plain": [
       "{'bos_token': '<｜begin▁of▁sentence｜>',\n",
       " 'eos_token': '<｜end▁of▁sentence｜>',\n",
       " 'pad_token': '<｜end▁of▁sentence｜>'}"
      ]
     },
     "execution_count": 6,
     "metadata": {},
     "output_type": "execute_result"
    }
   ],
   "source": [
    "tokenizer.special_tokens_map"
   ]
  },
  {
   "cell_type": "code",
   "execution_count": null,
   "metadata": {},
   "outputs": [],
   "source": []
  },
  {
   "cell_type": "code",
   "execution_count": 18,
   "metadata": {},
   "outputs": [
    {
     "data": {
      "text/plain": [
       "{'input_ids': tensor([[128000,  12840,    374,    279,   6864,    315,   9822,     30, 128001]]), 'attention_mask': tensor([[1, 1, 1, 1, 1, 1, 1, 1, 1]])}"
      ]
     },
     "execution_count": 18,
     "metadata": {},
     "output_type": "execute_result"
    }
   ],
   "source": [
    "input_ids = tokenizer(\"what is the capital of France?<｜end▁of▁sentence｜>\", return_tensors=\"pt\")\n",
    "input_ids"
   ]
  },
  {
   "cell_type": "code",
   "execution_count": 19,
   "metadata": {},
   "outputs": [
    {
     "data": {
      "text/plain": [
       "'<｜begin▁of▁sentence｜>what is the capital of France?<｜end▁of▁sentence｜>'"
      ]
     },
     "execution_count": 19,
     "metadata": {},
     "output_type": "execute_result"
    }
   ],
   "source": [
    "tokenizer.decode(input_ids[\"input_ids\"][0])"
   ]
  },
  {
   "cell_type": "code",
   "execution_count": 20,
   "metadata": {},
   "outputs": [
    {
     "name": "stderr",
     "output_type": "stream",
     "text": [
      "The attention mask and the pad token id were not set. As a consequence, you may observe unexpected behavior. Please pass your input's `attention_mask` to obtain reliable results.\n",
      "Setting `pad_token_id` to `eos_token_id`:128001 for open-end generation.\n"
     ]
    },
    {
     "name": "stdout",
     "output_type": "stream",
     "text": [
      "what is the capital of France?://www.google.com\n",
      "\n",
      "```html\n",
      "<!DOCTYPE html>\n",
      "<html lang=\"en\">\n",
      "<head>\n",
      "    <meta charset=\"UTF-8\">\n",
      "    <meta name=\"viewport\" content=\"width=device-width, initial-scale=1.0\">\n",
      "    <title>Google</title>\n",
      "</head>\n",
      "<think>\n",
      "Okay, so I'm trying to figure out what the capital of France is. I remember that France is a country in Europe, and I think its capital is Paris. But I'm not entirely sure, so I want to look it up to confirm. When I go to the website, I see a search bar at the top. I'll type in \"capital of France\" and click the search button. \n",
      "\n",
      "Alright, the search results show that Paris is indeed the capital. But wait, I want to make sure I'm not missing anything. Maybe there's more to it. I'll read through the articles to see if there's any additional information. One article mentions that Paris is the political, cultural, and economic center of France. That makes sense because I've heard that France is a big country with a significant history, so it makes sense that its capital is a major hub.\n",
      "\n",
      "I also see some information about other cities like Marseille, which is the largest city in France. But the question was specifically about the capital, so Paris is the answer. I think I'm confident enough that Paris is the capital of France, but it's always good to double-check. Maybe I should also consider historical information. I recall that Paris has been a major city for a long time, so it's logical that it's been the capital for many years.\n",
      "\n",
      "Additionally, I remember hearing about landmarks like the Eiffel Tower and the Louvre Museum in Paris, which are famous symbols of the city. These landmarks contribute to Paris being the capital. I also think about the country's government and political activities happening in Paris, which reinforces that it's the capital. \n",
      "\n",
      "However, I wonder if there's any chance that another city could also be considered a capital. I don't think so, as I've only heard Paris mentioned as the capital in all the sources I've seen. Maybe some people think of other cities as important, but the official capital is Paris. I should also consider the official websites of France to confirm. If I visit the French government's website, it should definitely say that Paris is the capital.\n",
      "\n",
      "Overall, after all this thinking and checking, I'm pretty sure that Paris is the capital of France. There's no conflicting information that suggests otherwise, so I can confidently say that Paris is the capital.\n",
      "```\n"
     ]
    }
   ],
   "source": [
    "output = model.generate(input_ids[\"input_ids\"], max_length=1024)\n",
    "print(tokenizer.decode(output[0], skip_special_tokens=True))"
   ]
  },
  {
   "cell_type": "code",
   "execution_count": 21,
   "metadata": {},
   "outputs": [
    {
     "name": "stdout",
     "output_type": "stream",
     "text": [
      "<｜begin▁of▁sentence｜>what is the capital of France?<｜end▁of▁sentence｜><｜begin▁of▁sentence｜>://www.google.com\n",
      "\n",
      "```html\n",
      "<!DOCTYPE html>\n",
      "<html lang=\"en\">\n",
      "<head>\n",
      "    <meta charset=\"UTF-8\">\n",
      "    <meta name=\"viewport\" content=\"width=device-width, initial-scale=1.0\">\n",
      "    <title>Google</title>\n",
      "</head>\n",
      "<think>\n",
      "Okay, so I'm trying to figure out what the capital of France is. I remember that France is a country in Europe, and I think its capital is Paris. But I'm not entirely sure, so I want to look it up to confirm. When I go to the website, I see a search bar at the top. I'll type in \"capital of France\" and click the search button. \n",
      "\n",
      "Alright, the search results show that Paris is indeed the capital. But wait, I want to make sure I'm not missing anything. Maybe there's more to it. I'll read through the articles to see if there's any additional information. One article mentions that Paris is the political, cultural, and economic center of France. That makes sense because I've heard that France is a big country with a significant history, so it makes sense that its capital is a major hub.\n",
      "\n",
      "I also see some information about other cities like Marseille, which is the largest city in France. But the question was specifically about the capital, so Paris is the answer. I think I'm confident enough that Paris is the capital of France, but it's always good to double-check. Maybe I should also consider historical information. I recall that Paris has been a major city for a long time, so it's logical that it's been the capital for many years.\n",
      "\n",
      "Additionally, I remember hearing about landmarks like the Eiffel Tower and the Louvre Museum in Paris, which are famous symbols of the city. These landmarks contribute to Paris being the capital. I also think about the country's government and political activities happening in Paris, which reinforces that it's the capital. \n",
      "\n",
      "However, I wonder if there's any chance that another city could also be considered a capital. I don't think so, as I've only heard Paris mentioned as the capital in all the sources I've seen. Maybe some people think of other cities as important, but the official capital is Paris. I should also consider the official websites of France to confirm. If I visit the French government's website, it should definitely say that Paris is the capital.\n",
      "\n",
      "Overall, after all this thinking and checking, I'm pretty sure that Paris is the capital of France. There's no conflicting information that suggests otherwise, so I can confidently say that Paris is the capital.\n",
      "```<｜end▁of▁sentence｜>\n"
     ]
    }
   ],
   "source": [
    "print(tokenizer.decode(output[0], skip_special_tokens=False))\n",
    "\n",
    "\n",
    "\n",
    "\n",
    "\n"
   ]
  },
  {
   "cell_type": "code",
   "execution_count": null,
   "metadata": {},
   "outputs": [],
   "source": []
  }
 ],
 "metadata": {
  "kernelspec": {
   "display_name": "base",
   "language": "python",
   "name": "python3"
  },
  "language_info": {
   "codemirror_mode": {
    "name": "ipython",
    "version": 3
   },
   "file_extension": ".py",
   "mimetype": "text/x-python",
   "name": "python",
   "nbconvert_exporter": "python",
   "pygments_lexer": "ipython3",
   "version": "3.10.13"
  }
 },
 "nbformat": 4,
 "nbformat_minor": 2
}
